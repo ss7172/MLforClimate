{
 "cells": [
  {
   "cell_type": "code",
   "execution_count": null,
   "metadata": {},
   "outputs": [
    {
     "name": "stdout",
     "output_type": "stream",
     "text": [
      "Done! Sorted data saved to 'your_data_sorted.csv'.\n"
     ]
    }
   ],
   "source": [
    "import pandas as pd\n",
    "\n",
    "df = pd.read_csv(\"./data/train_iterative_imputer_cloud_coverage.csv\")\n",
    "\n",
    "df['timestamp'] = pd.to_datetime(df['timestamp'], errors='coerce')\n",
    "\n",
    "df_sorted = df.sort_values(['building_id', 'timestamp'])\n",
    "\n",
    "\n",
    "desired_order = ['building_id', 'timestamp', 'meter_reading']\n",
    "remaining_cols = [col for col in df_sorted.columns if col not in desired_order]\n",
    "final_order = desired_order + remaining_cols\n",
    "\n",
    "df_sorted = df_sorted[final_order]\n",
    "\n",
    "\n",
    "df_sorted.to_csv(\"./data/sorted_df.csv\", index=False)\n",
    "\n",
    "print(\"Done! Sorted data saved to 'your_data_sorted.csv'.\")\n"
   ]
  },
  {
   "cell_type": "code",
   "execution_count": null,
   "metadata": {},
   "outputs": [
    {
     "name": "stdout",
     "output_type": "stream",
     "text": [
      "Done generating time-series plots.\n"
     ]
    }
   ],
   "source": [
    "import pandas as pd\n",
    "import matplotlib.pyplot as plt\n",
    "import matplotlib.dates as mdates\n",
    "import re\n",
    "\n",
    "df = pd.read_csv(\"./data/train_iterative_imputer_cloud_coverage.csv\")\n",
    "\n",
    "df['timestamp'] = pd.to_datetime(df['timestamp'], errors='coerce')\n",
    "df = df.sort_values(['building_id', 'timestamp'])\n",
    "\n",
    "groups = df.groupby(['primary_use', 'building_id'])\n",
    "\n",
    "count = 0\n",
    "for (usage, bld_id), group_df in groups:\n",
    "    \n",
    "    group_df = group_df.sort_values('timestamp')\n",
    "    fig, ax = plt.subplots()\n",
    "\n",
    "    ax.plot(group_df['timestamp'], group_df['meter_reading'], label='Meter Reading')\n",
    "\n",
    "    ax.set_title(f\"Building ID: {bld_id}, Primary Use: {usage}\")\n",
    "    ax.set_xlabel(\"Timestamp\")\n",
    "    ax.set_ylabel(\"Meter Reading\")\n",
    "\n",
    "    ax.xaxis.set_major_locator(mdates.MonthLocator())\n",
    "    ax.xaxis.set_major_formatter(mdates.DateFormatter('%Y-%m'))\n",
    "    plt.xticks(rotation=45)\n",
    "    plt.tight_layout()\n",
    "\n",
    "    safe_usage = usage.replace('/', '_')  \n",
    "\n",
    "    plt.savefig(f\"./building_meter_plots/building_{bld_id}_{safe_usage}.png\", bbox_inches='tight')\n",
    "    plt.close()\n",
    "\n",
    "    count += 1\n",
    "\n",
    "print(\"Done generating time-series plots.\")\n"
   ]
  }
 ],
 "metadata": {
  "kernelspec": {
   "display_name": "base",
   "language": "python",
   "name": "python3"
  },
  "language_info": {
   "codemirror_mode": {
    "name": "ipython",
    "version": 3
   },
   "file_extension": ".py",
   "mimetype": "text/x-python",
   "name": "python",
   "nbconvert_exporter": "python",
   "pygments_lexer": "ipython3",
   "version": "3.11.5"
  }
 },
 "nbformat": 4,
 "nbformat_minor": 2
}
